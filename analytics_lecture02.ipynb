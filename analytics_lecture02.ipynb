{
 "cells": [
  {
   "cell_type": "markdown",
   "metadata": {},
   "source": [
    "github上では、jyupter上のlatexがうまく動作しません。\n",
    "\n",
    "[Jupyter nbviewer](http://nbviewer.jupyter.org/)のページで当ページのURLを貼り付けて、表示させてください。"
   ]
  },
  {
   "cell_type": "markdown",
   "metadata": {},
   "source": [
    "## $\\sin x$の導関数 p.47\n",
    "$$\n",
    "\\begin{eqnarray}\n",
    "\\sin(A+B)-\\sin(A-B)&\\overset{\\mathrm{ここは覚える}}{=}&\n",
    "\\{\\cos A\\sin B+\\cos B\\sin A\\}-\\{\\cos A\\sin(-B)+\\cos(-B)\\sin A\\} \\\\\n",
    "&=&\\{\\cos A\\sin B+\\cos B\\sin A\\}-\\{-\\cos A\\sin B+\\cos B\\sin A\\} \\\\\n",
    "&=&2\\cos A\\sin B\n",
    "\\end{eqnarray}\n",
    "$$\n",
    "\n",
    "ここで$A+B=C$と$A-B=D$とおくと、$A=\\frac{C+D}{2}$と$B=\\frac{C-D}{2}$となり、\n",
    "$$\n",
    "\\sin C-\\sin D=2\\cos\\frac{C+D}{2}\\sin\\frac{C-D}{2}\n",
    "$$\n",
    "となる。\n",
    "\n",
    "さらに、$C=x+h$と$D=x$とおくと、\n",
    "$$\n",
    "\\sin(x+h)-\\sin(x)=2\\cos\\frac{C+D}{2}\\sin\\frac{C-D}{2}=2\\cos\\frac{(x+h)+x}{2}\\sin\\frac{(x+h)-x}{2} \n",
    "=2\\cos\\left(x+\\frac{h}{2}\\right)\\sin\\frac{h}{2}\n",
    "$$\n",
    "\n",
    "この最後の結果を用いると、\n",
    "\n",
    "$$\n",
    "\\begin{eqnarray}\n",
    "\\lim_{h\\rightarrow 0}\\frac{\\sin(x+h)-\\sin x}{h}&=&\\lim_{h\\rightarrow 0}\\frac{1}{h}\\left\\{2\\cos\\left(x+\\frac{h}{2}\\right)\\sin\\left(\\frac{h}{2}\\right)\\right\\}=\\lim_{h\\rightarrow 0}\\frac{1}{h}\\frac{1}{1/2}\\left\\{\\cos\\left(x+\\frac{h}{2}\\right)\\sin\\left(\\frac{h}{2}\\right)\\right\\} \\nonumber \\\\\n",
    "&=&\\lim_{h\\rightarrow 0}\\frac{1}{h/2}\\left\\{\\cos\\left(x+\\frac{h}{2}\\right)\\sin\\left(\\frac{h}{2}\\right)\\right\\}\n",
    "=\\lim_{h\\rightarrow 0}\\left\\{\\cos\\left(x+\\frac{h}{2}\\right)\\frac{\\sin(h/2)}{h/2}\\right\\} \\nonumber \\\\\n",
    "&\\overset{\\mathrm{p.28(2.18-3)}}{=}&\n",
    "\\lim_{h\\rightarrow 0}\\left\\{\\cos\\left(x+\\frac{h}{2}\\right)\\right\\}\\lim_{h\\rightarrow 0}\\left\\{\\frac{\\sin(h/2)}{h/2}\\right\\}\n",
    "=\\lim_{h\\rightarrow 0}\\left\\{\\cos\\left(x+\\frac{h}{2}\\right)\\right\\}\\cdot 1 \\nonumber \\\\\n",
    "&=&\\cos x\n",
    "\\end{eqnarray}\n",
    "$$\n",
    "\n",
    "### $2\\cos\\left(x+\\frac{h}{2}\\right)\\sin\\frac{h}{2}$をいきなり出す方法(やはりこうだよ)\n",
    "\n",
    "$$\n",
    "\\begin{eqnarray}\n",
    "\\sin(x+h)-\\sin(x)&=&\\sin\\left(x+\\frac{h}{2}+\\frac{h}{2}\\right)-\\sin\\left(x+\\frac{h}{2}-\\frac{h}{2}\\right) \\nonumber \\\\\n",
    "&=&\\left\\{\\cos\\left(x+\\frac{h}{2}\\right)\\sin\\frac{h}{2}+\\cos\\frac{h}{2}\\sin\\left(x+\\frac{h}{2}\\right)\\right\\}\n",
    "-\\left\\{\\cos\\left(x+\\frac{h}{2}\\right)\\sin\\left(-\\frac{h}{2}\\right)+\\cos\\left(-\\frac{h}{2}\\right)\\sin\\left(x+\\frac{h}{2}\\right)\\right\\} \\nonumber \\\\\n",
    "&=&\\left\\{\\cos\\left(x+\\frac{h}{2}\\right)\\sin\\frac{h}{2}+\\cos\\frac{h}{2}\\sin\\left(x+\\frac{h}{2}\\right)\\right\\}\n",
    "-\\left\\{-\\cos\\left(x+\\frac{h}{2}\\right)\\sin\\frac{h}{2}+\\cos\\frac{h}{2}\\sin\\left(x+\\frac{h}{2}\\right)\\right\\} \\nonumber \\\\\n",
    "&=&2\\cos\\left(x+\\frac{h}{2}\\right)\\sin\\frac{h}{2}\n",
    "\\end{eqnarray}\n",
    "$$\n",
    "\n",
    "### $\\cos x$の導関数も、これとほぼ同様に導出できます"
   ]
  },
  {
   "cell_type": "markdown",
   "metadata": {},
   "source": [
    "## $\\log x$の導出にあたって\n",
    "\n",
    "自然対数$e$は、$n\\in\\mathbb{N}$に対して、\n",
    "\n",
    "$$\n",
    "\\lim_{n\\rightarrow\\infty}\\left(1+\\frac{1}{n}\\right)^{n}=2.7182818\\overset{\\mathrm{def}}{=}e \\quad p.21の(2.7)\n",
    "$$\n",
    "は定義され、これは$x\\in\\mathbb{R}$に対しても拡張され、\n",
    "\n",
    "$$\n",
    "\\lim_{n\\rightarrow\\infty}\\left(1+\\frac{1}{x}\\right)^{x}=e \\quad p.30の(2.23)\n",
    "$$\n",
    "となる。ここでの証明に使われる**はさみこみ(はさみうち?)**は解析学の$\\epsilon - \\delta$法の定石方法。\n",
    "\n",
    "問題2-3 2(4)(p.31)\n",
    "\n",
    "$$\n",
    "\\lim_{x\\rightarrow 0}\\frac{\\log(1+x)}{x}=1\n",
    "$$\n",
    "\n",
    "は、$x=\\frac{1}{y}$とおいて、$x\\rightarrow 0$は$y\\rightarrow\\infty$となるので、\n",
    "\n",
    "$$\n",
    "\\lim_{x\\rightarrow 0}\\frac{\\log(1+x)}{x}=\\lim_{y\\rightarrow\\infty}\\frac{\\log(1+\\frac{1}{y})}{1/y}\n",
    "=\\lim_{y\\rightarrow\\infty}y\\cdot\\log\\left(1+\\frac{1}{y}\\right)\n",
    "=\\lim_{y\\rightarrow\\infty}\\log\\left(1+\\frac{1}{y}\\right)^{y}\n",
    "\\overset{\\mathrm{(2.23)より}}{=}\\log e=1\n",
    "$$"
   ]
  }
 ],
 "metadata": {
  "kernelspec": {
   "display_name": "Python 3",
   "language": "python",
   "name": "python3"
  },
  "language_info": {
   "codemirror_mode": {
    "name": "ipython",
    "version": 3
   },
   "file_extension": ".py",
   "mimetype": "text/x-python",
   "name": "python",
   "nbconvert_exporter": "python",
   "pygments_lexer": "ipython3",
   "version": "3.6.3"
  }
 },
 "nbformat": 4,
 "nbformat_minor": 2
}
